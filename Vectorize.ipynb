{
 "cells": [
  {
   "cell_type": "markdown",
   "source": [
    "## Example how to Speed up a calculation by vectorial operations\n",
    "### Example demonstrates how to calculate a volume of a cylinder for a large list of diameters\n",
    "### $V = A L = \\frac{\\pi}{4} D^2 L$\n",
    "#### where:\n",
    "#### $V$&nbsp; is the volume of the cylinder\n",
    "#### $A$&nbsp; is the area of the cross-section (circumference)\n",
    "#### $D$&nbsp; is the diameter of the cross-section (circumference)\n",
    "#### $L$&nbsp; is the length of the cylinder"
   ],
   "metadata": {
    "collapsed": false,
    "pycharm": {
     "name": "#%% md\n"
    }
   }
  },
  {
   "cell_type": "code",
   "execution_count": 35,
   "outputs": [],
   "source": [
    "import numpy as np\n",
    "import datetime as dt"
   ],
   "metadata": {
    "collapsed": false,
    "pycharm": {
     "name": "#%%\n"
    }
   }
  },
  {
   "cell_type": "code",
   "execution_count": 36,
   "outputs": [],
   "source": [
    "# Used in the first 1st, 2nd and 3rd steps:\n",
    "def volume_of_cylinder(diam: float, length: float) -> float:\n",
    "    \"\"\" Calculate Volume of a Cylinder \"\"\"\n",
    "    return diam ** 2 * (np.pi / 4) * length\n",
    "\n",
    "# Used in last 4th step:\n",
    "def volume_of_cylinder_np(diameter_np: np.array, length_np: np.array) -> np.array:\n",
    "    \"\"\" Calculate volume of a Cylinder through numpy (more efficient) \"\"\"\n",
    "    return diameter_np ** 2 * (np.pi / 4) * length_np\n",
    "\n",
    "# Define list of values (increasing variable value list)\n",
    "diameter_list = list(range(1000000))\n",
    "length_list = list(range(1000000))\n",
    "\n",
    "# Convert lists to numpy arrays\n",
    "diameter_array = np.array(diameter_list)\n",
    "length_array = np.array(length_list)"
   ],
   "metadata": {
    "collapsed": false,
    "pycharm": {
     "name": "#%%\n"
    }
   }
  },
  {
   "cell_type": "markdown",
   "source": [
    "#### 1st Method - For Loop appending to a list"
   ],
   "metadata": {
    "collapsed": false,
    "pycharm": {
     "name": "#%% md\n"
    }
   }
  },
  {
   "cell_type": "code",
   "execution_count": 37,
   "outputs": [
    {
     "name": "stdout",
     "output_type": "stream",
     "text": [
      "Result of index 1000 is 785398163.40 m3 - Running time was 0.6972 seconds\n"
     ]
    }
   ],
   "source": [
    "# Normal For Loop operation (no numpy)\n",
    "start = dt.datetime.now()\n",
    "\n",
    "volumes1 = []\n",
    "for idx, diameter in enumerate(diameter_list):\n",
    "    volumes1.append(volume_of_cylinder(diameter, length_list[idx]))\n",
    "\n",
    "end = dt.datetime.now()\n",
    "delta1 = (end - start).total_seconds()\n",
    "\n",
    "print(f\"Result of index 1000 is {volumes1[1000]:.2f} m3 - Running time was {delta1:.4f} seconds\")"
   ],
   "metadata": {
    "collapsed": false,
    "pycharm": {
     "name": "#%%\n"
    }
   }
  },
  {
   "cell_type": "markdown",
   "source": [
    "#### 2nd Method - Using list comprehension"
   ],
   "metadata": {
    "collapsed": false,
    "pycharm": {
     "name": "#%% md\n"
    }
   }
  },
  {
   "cell_type": "code",
   "execution_count": 38,
   "outputs": [
    {
     "name": "stdout",
     "output_type": "stream",
     "text": [
      "Result of index 1000 is 785398163.40 m3 - Running time was 0.4037 seconds\n"
     ]
    }
   ],
   "source": [
    "# Function operating with lists (list comprehension)\n",
    "start = dt.datetime.now()\n",
    "\n",
    "def volume_of_cylinder_list(diam_list: list[float], len_list: List[float]) -> list[float]:\n",
    "    \"\"\" Calculate Volume of a Cylinder \"\"\"\n",
    "    return [(rad ** 2 * (np.pi/4) * thick) for rad, thick in zip(diam_list, len_list)]\n",
    "volumes2 = volume_of_cylinder_list(diam_list=diameter_list, len_list=length_list)\n",
    "\n",
    "end = dt.datetime.now()\n",
    "delta2 = (end - start).total_seconds()\n",
    "\n",
    "print(f\"Result of index 1000 is {volumes2[1000]:.2f} m3 - Running time was {delta2:.4f} seconds\")"
   ],
   "metadata": {
    "collapsed": false,
    "pycharm": {
     "name": "#%%\n"
    }
   }
  },
  {
   "cell_type": "markdown",
   "source": [
    "#### 3rd Method - Using Numpy Vectorize Function"
   ],
   "metadata": {
    "collapsed": false,
    "pycharm": {
     "name": "#%% md\n"
    }
   }
  },
  {
   "cell_type": "code",
   "execution_count": 39,
   "outputs": [
    {
     "name": "stdout",
     "output_type": "stream",
     "text": [
      "Result of index 1000 is 785398163.40 m3 - Running time was 0.5592 seconds\n"
     ]
    }
   ],
   "source": [
    "# Using the Vectorize Numpy Function\n",
    "start = dt.datetime.now()\n",
    "\n",
    "vector_function = np.vectorize(volume_of_cylinder)\n",
    "volumes3 = vector_function(diameter_array, length_array)\n",
    "\n",
    "end = dt.datetime.now()\n",
    "delta3 = (end - start).total_seconds()\n",
    "\n",
    "print(f\"Result of index 1000 is {volumes3[1000]:.2f} m3 - Running time was {delta3:.4f} seconds\")"
   ],
   "metadata": {
    "collapsed": false,
    "pycharm": {
     "name": "#%%\n"
    }
   }
  },
  {
   "cell_type": "markdown",
   "source": [
    "#### 4th Method - Pure Numpy calculation"
   ],
   "metadata": {
    "collapsed": false,
    "pycharm": {
     "name": "#%% md\n"
    }
   }
  },
  {
   "cell_type": "code",
   "execution_count": 41,
   "outputs": [
    {
     "name": "stdout",
     "output_type": "stream",
     "text": [
      "Result of index 1000 is 785398163.40 m3 - Running time was 0.0090 seconds\n"
     ]
    }
   ],
   "source": [
    "# Fully Numpy Operation\n",
    "start = dt.datetime.now()\n",
    "\n",
    "volumes4 = volume_of_cylinder_np(diameter_np=diameter_array, length_np=length_array)\n",
    "end = dt.datetime.now()\n",
    "\n",
    "delta4 = (end - start).total_seconds()\n",
    "\n",
    "print(f\"Result of index 1000 is {volumes4[1000]:.2f} m3 - Running time was {delta4:.4f} seconds\")"
   ],
   "metadata": {
    "collapsed": false,
    "pycharm": {
     "name": "#%%\n"
    }
   }
  },
  {
   "cell_type": "code",
   "execution_count": 42,
   "outputs": [
    {
     "data": {
      "text/plain": "<Figure size 432x288 with 1 Axes>",
      "image/png": "[encoded data removed]"
     },
     "metadata": {
      "needs_background": "light"
     },
     "output_type": "display_data"
    }
   ],
   "source": [
    "import matplotlib.pyplot as plt\n",
    "\n",
    "fig, ax = plt.subplots()\n",
    "\n",
    "time = [delta1, delta2, delta3, delta4]\n",
    "p1 = ax.bar(np.arange(4), time, label='Method 1')\n",
    "\n",
    "ax.set_ylabel('Time [sec]')\n",
    "ax.set_title('Calculation performance of the different methods')\n",
    "ax.set_xticks(np.arange(4), labels=['Method 1', 'Method 2', 'Method 3', 'Method 4'])\n",
    "ax.bar_label(p1, label_type='edge')\n",
    "plt.show()"
   ],
   "metadata": {
    "collapsed": false,
    "pycharm": {
     "name": "#%%\n"
    }
   }
  }
 ],
 "metadata": {
  "kernelspec": {
   "display_name": "Python 3",
   "language": "python",
   "name": "python3"
  },
  "language_info": {
   "codemirror_mode": {
    "name": "ipython",
    "version": 2
   },
   "file_extension": ".py",
   "mimetype": "text/x-python",
   "name": "python",
   "nbconvert_exporter": "python",
   "pygments_lexer": "ipython2",
   "version": "2.7.6"
  }
 },
 "nbformat": 4,
 "nbformat_minor": 0
}